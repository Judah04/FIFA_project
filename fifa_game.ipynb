{
 "cells": [
  {
   "cell_type": "code",
   "execution_count": 5,
   "id": "29565467-a335-40c2-bde2-d8eb204eee90",
   "metadata": {},
   "outputs": [
    {
     "name": "stdout",
     "output_type": "stream",
     "text": [
      "(17560, 63)\n",
      "(17927, 64)\n",
      "(17943, 64)\n",
      "(17104, 65)\n",
      "(17108, 65)\n",
      "(16710, 65)\n"
     ]
    }
   ],
   "source": [
    "#import packages\n",
    "\n",
    "import pandas as pd\n",
    "\n",
    "#loading the datasets for each year\n",
    "\n",
    "FIFA17 = pd.read_csv(\"FIFA17_official_data.csv\",)\n",
    "FIFA18 = pd.read_csv(\"FIFA18_official_data.csv\",)\n",
    "FIFA19 = pd.read_csv(\"FIFA19_official_data.csv\",)\n",
    "FIFA20 = pd.read_csv(\"FIFA20_official_data.csv\",)\n",
    "FIFA21 = pd.read_csv(\"FIFA21_official_data.csv\",)\n",
    "FIFA22 = pd.read_csv(\"FIFA22_official_data.csv\",)\n",
    "\n",
    "#checking the number of rows and columns\n",
    "\n",
    "#print(FIFA17.shape)\n",
    "#print(FIFA18.shape)\n",
    "#print(FIFA19.shape)\n",
    "#print(FIFA20.shape)\n",
    "#print(FIFA21.shape)\n",
    "#print(FIFA22.shape)\n",
    "\n",
    "#checking for column information (data types, missing values, column names)\n",
    "\n",
    "#print(FIFA17.info())\n",
    "#print(FIFA18.info())\n",
    "#print(FIFA19.info())\n",
    "#print(FIFA20.info())\n",
    "#print(FIFA21.info())\n",
    "#print(FIFA22.info())\n"
   ]
  },
  {
   "cell_type": "code",
   "execution_count": null,
   "id": "ad9d383d-8fa7-44e7-96c4-6c23ddb0eb10",
   "metadata": {},
   "outputs": [],
   "source": []
  }
 ],
 "metadata": {
  "kernelspec": {
   "display_name": "Python 3 (ipykernel)",
   "language": "python",
   "name": "python3"
  },
  "language_info": {
   "codemirror_mode": {
    "name": "ipython",
    "version": 3
   },
   "file_extension": ".py",
   "mimetype": "text/x-python",
   "name": "python",
   "nbconvert_exporter": "python",
   "pygments_lexer": "ipython3",
   "version": "3.11.5"
  }
 },
 "nbformat": 4,
 "nbformat_minor": 5
}
